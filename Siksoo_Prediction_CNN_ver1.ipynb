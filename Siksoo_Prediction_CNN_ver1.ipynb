{
  "nbformat": 4,
  "nbformat_minor": 0,
  "metadata": {
    "colab": {
      "name": "Siksoo_Prediction_CNN_ver1.ipynb",
      "version": "0.3.2",
      "provenance": []
    },
    "kernelspec": {
      "display_name": "Python 3",
      "language": "python",
      "name": "python3"
    }
  },
  "cells": [
    {
      "metadata": {
        "id": "D4cN8NQ2OdCl",
        "colab_type": "text"
      },
      "cell_type": "markdown",
      "source": [
        "# Siksoo_Prediction_CNN_ver1"
      ]
    },
    {
      "metadata": {
        "id": "iQaJsHphOdCp",
        "colab_type": "text"
      },
      "cell_type": "markdown",
      "source": [
        "---------------------------"
      ]
    },
    {
      "metadata": {
        "id": "gOjOGkVJOdCq",
        "colab_type": "text"
      },
      "cell_type": "markdown",
      "source": [
        "### 1. 라이브러리 추가"
      ]
    },
    {
      "metadata": {
        "id": "jw5Mv9NCOdCs",
        "colab_type": "code",
        "colab": {}
      },
      "cell_type": "code",
      "source": [
        "from __future__ import print_function\n",
        "\n",
        "import glob\n",
        "import math\n",
        "import os\n",
        "\n",
        "from IPython import display\n",
        "\n",
        "import pandas as pd\n",
        "import numpy  as np\n",
        "import tensorflow as tf\n",
        "from tensorflow import keras\n",
        "import numpy as np\n",
        "import sklearn as sk\n",
        "from sklearn import metrics\n",
        "import numpy as np\n",
        "from sklearn.model_selection import train_test_split"
      ],
      "execution_count": 0,
      "outputs": []
    },
    {
      "metadata": {
        "id": "MoZ4V5E-OdC2",
        "colab_type": "text"
      },
      "cell_type": "markdown",
      "source": [
        "----------------------------"
      ]
    },
    {
      "metadata": {
        "id": "cl8uqyT0OdC4",
        "colab_type": "text"
      },
      "cell_type": "markdown",
      "source": [
        "### 2. 메뉴판을 만들기 위한 데이터를 불러옵니다."
      ]
    },
    {
      "metadata": {
        "id": "gNoLipObOdC6",
        "colab_type": "code",
        "colab": {}
      },
      "cell_type": "code",
      "source": [
        "raw_data = pd.read_csv('', encoding = \"euc-kr\", engine='python') #dtype =np.float64, , keep_default_na=False\n",
        "raw_data = raw_data.fillna(0)\n",
        "raw_data.head(5)"
      ],
      "execution_count": 0,
      "outputs": []
    },
    {
      "metadata": {
        "id": "7dNCUkGIOdDA",
        "colab_type": "code",
        "colab": {}
      },
      "cell_type": "code",
      "source": [
        "menu = raw_data['메뉴']\n",
        "menu.head(5)"
      ],
      "execution_count": 0,
      "outputs": []
    },
    {
      "metadata": {
        "id": "QORu3zHROdDG",
        "colab_type": "text"
      },
      "cell_type": "markdown",
      "source": [
        "> 제대로 불러왔는지 확인해봅니다"
      ]
    },
    {
      "metadata": {
        "id": "lQ7d-l8xOdDH",
        "colab_type": "code",
        "colab": {},
        "outputId": "948951b2-4786-42b2-8861-f39cff86ad6a"
      },
      "cell_type": "code",
      "source": [
        "ingre = raw_data[['곡류','두류','난류','묵류','채소류','해조류','어패류','육류','떡류','양념.및.장류','김치류','만두류','면류','과일류']]\n",
        "ingre.head(1)"
      ],
      "execution_count": 0,
      "outputs": [
        {
          "output_type": "execute_result",
          "data": {
            "text/html": [
              "<div>\n",
              "<style scoped>\n",
              "    .dataframe tbody tr th:only-of-type {\n",
              "        vertical-align: middle;\n",
              "    }\n",
              "\n",
              "    .dataframe tbody tr th {\n",
              "        vertical-align: top;\n",
              "    }\n",
              "\n",
              "    .dataframe thead th {\n",
              "        text-align: right;\n",
              "    }\n",
              "</style>\n",
              "<table border=\"1\" class=\"dataframe\">\n",
              "  <thead>\n",
              "    <tr style=\"text-align: right;\">\n",
              "      <th></th>\n",
              "      <th>곡류</th>\n",
              "      <th>두류</th>\n",
              "      <th>난류</th>\n",
              "      <th>묵류</th>\n",
              "      <th>채소류</th>\n",
              "      <th>해조류</th>\n",
              "      <th>어패류</th>\n",
              "      <th>육류</th>\n",
              "      <th>떡류</th>\n",
              "      <th>양념.및.장류</th>\n",
              "      <th>김치류</th>\n",
              "      <th>만두류</th>\n",
              "      <th>면류</th>\n",
              "      <th>과일류</th>\n",
              "    </tr>\n",
              "  </thead>\n",
              "  <tbody>\n",
              "    <tr>\n",
              "      <th>0</th>\n",
              "      <td>0.0</td>\n",
              "      <td>0.0</td>\n",
              "      <td>0.0</td>\n",
              "      <td>0.0</td>\n",
              "      <td>0.0</td>\n",
              "      <td>0.0</td>\n",
              "      <td>0.0</td>\n",
              "      <td>0.0</td>\n",
              "      <td>0.0</td>\n",
              "      <td>1.0</td>\n",
              "      <td>0.0</td>\n",
              "      <td>0.0</td>\n",
              "      <td>0.0</td>\n",
              "      <td>0.0</td>\n",
              "    </tr>\n",
              "  </tbody>\n",
              "</table>\n",
              "</div>"
            ],
            "text/plain": [
              "    곡류   두류   난류   묵류  채소류  해조류  어패류   육류   떡류  양념.및.장류  김치류  만두류   면류  과일류\n",
              "0  0.0  0.0  0.0  0.0  0.0  0.0  0.0  0.0  0.0      1.0  0.0  0.0  0.0  0.0"
            ]
          },
          "metadata": {
            "tags": []
          },
          "execution_count": 6
        }
      ]
    },
    {
      "metadata": {
        "id": "Zzsi7wecOdDO",
        "colab_type": "text"
      },
      "cell_type": "markdown",
      "source": [
        "> ingre 변수에 '재료'와 관련된 변수를 설정합니다. 이는 향후 메뉴판 행렬을 만들 때 사용할 것입니다"
      ]
    },
    {
      "metadata": {
        "scrolled": true,
        "id": "xb4EzhIOOdDQ",
        "colab_type": "code",
        "colab": {},
        "outputId": "97fe32de-1b87-44e5-d714-7393610b824f"
      },
      "cell_type": "code",
      "source": [
        "method= raw_data[['밥류','죽류','덮밥국밥류','비빔밥볶음밥류','김.초.밥류','국수류','국탕류','찌개류','구이류','찜류','튀김류','무침류','볶음류','장아찌류','전류','조림류','샐러드류','단품류','유제품','빵과자류','음료.및.주류']]\n",
        "method.head(1)"
      ],
      "execution_count": 0,
      "outputs": [
        {
          "output_type": "execute_result",
          "data": {
            "text/html": [
              "<div>\n",
              "<style scoped>\n",
              "    .dataframe tbody tr th:only-of-type {\n",
              "        vertical-align: middle;\n",
              "    }\n",
              "\n",
              "    .dataframe tbody tr th {\n",
              "        vertical-align: top;\n",
              "    }\n",
              "\n",
              "    .dataframe thead th {\n",
              "        text-align: right;\n",
              "    }\n",
              "</style>\n",
              "<table border=\"1\" class=\"dataframe\">\n",
              "  <thead>\n",
              "    <tr style=\"text-align: right;\">\n",
              "      <th></th>\n",
              "      <th>밥류</th>\n",
              "      <th>죽류</th>\n",
              "      <th>덮밥국밥류</th>\n",
              "      <th>비빔밥볶음밥류</th>\n",
              "      <th>김.초.밥류</th>\n",
              "      <th>국수류</th>\n",
              "      <th>국탕류</th>\n",
              "      <th>찌개류</th>\n",
              "      <th>구이류</th>\n",
              "      <th>찜류</th>\n",
              "      <th>...</th>\n",
              "      <th>무침류</th>\n",
              "      <th>볶음류</th>\n",
              "      <th>장아찌류</th>\n",
              "      <th>전류</th>\n",
              "      <th>조림류</th>\n",
              "      <th>샐러드류</th>\n",
              "      <th>단품류</th>\n",
              "      <th>유제품</th>\n",
              "      <th>빵과자류</th>\n",
              "      <th>음료.및.주류</th>\n",
              "    </tr>\n",
              "  </thead>\n",
              "  <tbody>\n",
              "    <tr>\n",
              "      <th>0</th>\n",
              "      <td>0.0</td>\n",
              "      <td>0.0</td>\n",
              "      <td>0.0</td>\n",
              "      <td>0.0</td>\n",
              "      <td>0.0</td>\n",
              "      <td>0.0</td>\n",
              "      <td>0.0</td>\n",
              "      <td>0.0</td>\n",
              "      <td>0.0</td>\n",
              "      <td>0.0</td>\n",
              "      <td>...</td>\n",
              "      <td>0.0</td>\n",
              "      <td>0.0</td>\n",
              "      <td>0.0</td>\n",
              "      <td>0.0</td>\n",
              "      <td>0.0</td>\n",
              "      <td>0.0</td>\n",
              "      <td>1.0</td>\n",
              "      <td>0.0</td>\n",
              "      <td>0.0</td>\n",
              "      <td>0.0</td>\n",
              "    </tr>\n",
              "  </tbody>\n",
              "</table>\n",
              "<p>1 rows × 21 columns</p>\n",
              "</div>"
            ],
            "text/plain": [
              "    밥류   죽류  덮밥국밥류  비빔밥볶음밥류  김.초.밥류  국수류  국탕류  찌개류  구이류   찜류   ...     무침류  \\\n",
              "0  0.0  0.0    0.0      0.0     0.0  0.0  0.0  0.0  0.0  0.0   ...     0.0   \n",
              "\n",
              "   볶음류  장아찌류   전류  조림류  샐러드류  단품류  유제품  빵과자류  음료.및.주류  \n",
              "0  0.0   0.0  0.0  0.0   0.0  1.0  0.0   0.0      0.0  \n",
              "\n",
              "[1 rows x 21 columns]"
            ]
          },
          "metadata": {
            "tags": []
          },
          "execution_count": 7
        }
      ]
    },
    {
      "metadata": {
        "id": "BtNl7xrjOdDW",
        "colab_type": "text"
      },
      "cell_type": "markdown",
      "source": [
        "> method 변수에 '조리방법'과 관련된 변수를 설정합니다. 이 역시 향후 메뉴판 행렬을 만들 때 사용할 것입니다"
      ]
    },
    {
      "metadata": {
        "id": "qXK040SLOdDY",
        "colab_type": "code",
        "colab": {}
      },
      "cell_type": "code",
      "source": [
        "method = method.values\n",
        "ingre = ingre.values\n",
        "ingre_size = ingre.shape[1]\n",
        "method_size = method.shape[1]"
      ],
      "execution_count": 0,
      "outputs": []
    },
    {
      "metadata": {
        "id": "yp7Mvx0uOdDc",
        "colab_type": "text"
      },
      "cell_type": "markdown",
      "source": [
        "> method 변수에 앞서 설정한 method 변수의 '값'을 저장합니다. ingre 역시 마찬가지로 처리해줍니다. 또한, ingre_size와 method_size에 재료와 조리방식의 크기를 설정해줍니다"
      ]
    },
    {
      "metadata": {
        "id": "7EuouOa6OdDf",
        "colab_type": "text"
      },
      "cell_type": "markdown",
      "source": [
        "-------------------------------"
      ]
    },
    {
      "metadata": {
        "id": "G63qoYzSOdDh",
        "colab_type": "text"
      },
      "cell_type": "markdown",
      "source": [
        "### 3. 음식 이미지(행렬)를 만들기"
      ]
    },
    {
      "metadata": {
        "scrolled": true,
        "id": "i3SYQATLOdDi",
        "colab_type": "code",
        "colab": {}
      },
      "cell_type": "code",
      "source": [
        "ingre.shape[0]"
      ],
      "execution_count": 0,
      "outputs": []
    },
    {
      "metadata": {
        "id": "9xf7-kQsOdDo",
        "colab_type": "text"
      },
      "cell_type": "markdown",
      "source": [
        "> 메뉴의 전체 데이터 크기를 확인합니다. 즉 전처리할 메뉴-음식이 1163개 있다는 것을 알 수 있습니다"
      ]
    },
    {
      "metadata": {
        "id": "3_gO85RlOdDq",
        "colab_type": "code",
        "colab": {},
        "outputId": "8ed3e515-e577-44ca-be49-bbf3623b07df"
      },
      "cell_type": "code",
      "source": [
        "ma = np.zeros((ingre.shape[0],ingre_size,method_size))\n",
        "ma.shape"
      ],
      "execution_count": 0,
      "outputs": [
        {
          "output_type": "execute_result",
          "data": {
            "text/plain": [
              "(1163, 14, 21)"
            ]
          },
          "metadata": {
            "tags": []
          },
          "execution_count": 12
        }
      ]
    },
    {
      "metadata": {
        "id": "XAFkv6fyOdDv",
        "colab_type": "text"
      },
      "cell_type": "markdown",
      "source": [
        "> 메뉴판을 만들기에 앞서, 먼저 음식 하나하나의 이미지(행렬)를 만들기 위해 0으로 구성되어 있는 행렬을 만듭니다. "
      ]
    },
    {
      "metadata": {
        "id": "C6lCNauqOdDx",
        "colab_type": "code",
        "colab": {}
      },
      "cell_type": "code",
      "source": [
        "num1 = 0\n",
        "num2 = 0\n",
        "num3 = 0\n",
        "for k in range(ingre.shape[0]):\n",
        "    num1 = 0\n",
        "    for i in ingre[k]:\n",
        "        print(i)\n",
        "        num2 = 0\n",
        "        for j in method[k]:\n",
        "            ma[k][num1][num2] = i*j\n",
        "            print(\"ma[\", num3, \"][\", num1, \"][\", num2, \"] = \", ma[k][num1][num2])\n",
        "            num2 = num2 +1\n",
        "        num1 = num1 +1\n",
        "    num3 = num3 +1"
      ],
      "execution_count": 0,
      "outputs": []
    },
    {
      "metadata": {
        "id": "clKHIN2JOdFV",
        "colab_type": "text"
      },
      "cell_type": "markdown",
      "source": [
        "> 앞서 만들었던 0으로 된 행렬 ma 행렬에 재료 * 조리방식을 넣어줍니다. 행렬 각각의 칸에 0 아니면 1이 들어갈 것입니다."
      ]
    },
    {
      "metadata": {
        "scrolled": true,
        "id": "PITrwNkuOdFW",
        "colab_type": "code",
        "colab": {}
      },
      "cell_type": "code",
      "source": [
        "a = dict()\n",
        "for k in range(ingre.shape[0]):\n",
        "    a[menu[k]] = ma[k]\n",
        "    print('menu : ', menu[k])\n",
        "    print('array : ', ma[k])"
      ],
      "execution_count": 0,
      "outputs": []
    },
    {
      "metadata": {
        "id": "o4Ef6OJDOdFz",
        "colab_type": "text"
      },
      "cell_type": "markdown",
      "source": [
        "> 각 음식 이미지(행렬)이 만들어진 것을 확인해봅니다"
      ]
    },
    {
      "metadata": {
        "id": "gt784WoUOdF2",
        "colab_type": "text"
      },
      "cell_type": "markdown",
      "source": [
        "--------------------------"
      ]
    },
    {
      "metadata": {
        "id": "cDe1FNiFOdF4",
        "colab_type": "text"
      },
      "cell_type": "markdown",
      "source": [
        "### 4. 날짜별로 메뉴판 만들기"
      ]
    },
    {
      "metadata": {
        "scrolled": true,
        "id": "IBD4vWpXOdF8",
        "colab_type": "code",
        "colab": {}
      },
      "cell_type": "code",
      "source": [
        "raw_data = pd.read_csv('', encoding = \"CP949\", engine='python') #dtype =np.float64, , keep_default_na=False\n",
        "raw_data.head(5)"
      ],
      "execution_count": 0,
      "outputs": []
    },
    {
      "metadata": {
        "id": "IihSgaNPOdGF",
        "colab_type": "text"
      },
      "cell_type": "markdown",
      "source": [
        "> date와 l.men이 담긴 데이터를 불러옵니다."
      ]
    },
    {
      "metadata": {
        "scrolled": false,
        "id": "zgm62h-FOdGG",
        "colab_type": "code",
        "colab": {}
      },
      "cell_type": "code",
      "source": [
        "b1 = raw_data[['V1','V2','V3','V4','V5','V6','V7','V8','V9','V10','V11','V12']]\n",
        "b2 = raw_data[['date', 'l.men']]\n",
        "b1.columns = [0, 1, 2, 3, 4, 5, 6, 7, 8, 9, 10, 11]\n",
        "b1.head(4)"
      ],
      "execution_count": 0,
      "outputs": []
    },
    {
      "metadata": {
        "id": "906EzLjzOdGK",
        "colab_type": "text"
      },
      "cell_type": "markdown",
      "source": [
        "> 열 값을 V1~V12가 아닌 0~11까지의 값으로 바꿔줍니다"
      ]
    },
    {
      "metadata": {
        "id": "JNV6SH6kOdGL",
        "colab_type": "code",
        "colab": {},
        "outputId": "779a594f-28ce-47c9-abd9-33c4f83df1e6"
      },
      "cell_type": "code",
      "source": [
        "ma = np.zeros((b1.shape[0],ingre_size,method_size))\n",
        "ma.shape"
      ],
      "execution_count": 0,
      "outputs": [
        {
          "output_type": "execute_result",
          "data": {
            "text/plain": [
              "(741, 14, 21)"
            ]
          },
          "metadata": {
            "tags": []
          },
          "execution_count": 17
        }
      ]
    },
    {
      "metadata": {
        "id": "jXGivb4bOdGQ",
        "colab_type": "text"
      },
      "cell_type": "markdown",
      "source": [
        "> 앞서 음식 이미지(행렬)을 만든 것과 마찬가지로 0으로 만들어진 행렬을 만듭니다. 여기에는 날짜별 메뉴판이 담길 것입니다"
      ]
    },
    {
      "metadata": {
        "id": "1TKZE_EpOdGR",
        "colab_type": "code",
        "colab": {}
      },
      "cell_type": "code",
      "source": [
        "for i in range(b1.shape[0]):\n",
        "    print('date : ', b2['date'][i])\n",
        "    print('l.men : ', b2['l.men'][i])\n",
        "    cnt = 0 \n",
        "    for k in range(b1.shape[1]): \n",
        "        tmp = b1[[0,1,2,3,4,5,6,7,8,9,10,11]][i:i+1]\n",
        "        if tmp[k].values[0] in a:\n",
        "            ma[i] += a[tmp[k].values[0]]\n",
        "            cnt += 1\n",
        "            print('all_count : ', i+1)\n",
        "            print('Updating..... ', tmp[k].values[0])\n",
        "            print('count : ', cnt)\n",
        "            print('menu : \\n', tmp)\n",
        "            print('array : \\n', ma[i])\n",
        "            print('.')"
      ],
      "execution_count": 0,
      "outputs": []
    },
    {
      "metadata": {
        "id": "tO431hZAOdG5",
        "colab_type": "text"
      },
      "cell_type": "markdown",
      "source": [
        "> 마지막 전처리입니다. 앞서 만든 0 행렬에 날짜별 메뉴를 비교하여 해당하는 (위에서 만든)이미지를 넣어줍니다.\n",
        "여기서 date는 날짜이며, l.men은 식수인원, all_count는 전체 741개의 날짜 중 몇번째 날짜를 진행하고 있는지를 보여주며, Updating은 어떤 음식을 추가하고 있는지, count는 해당 날짜의 몇번째 음식을 업데이트 하고 있는지 보여줍니다. menu는 해당 날짜의 메뉴를 보여줍니다 "
      ]
    },
    {
      "metadata": {
        "id": "ycZc5HuKOdG-",
        "colab_type": "text"
      },
      "cell_type": "markdown",
      "source": [
        "-----------------------"
      ]
    },
    {
      "metadata": {
        "id": "1TXMs-EhOdHA",
        "colab_type": "text"
      },
      "cell_type": "markdown",
      "source": [
        "### 5. CNN 학습하기"
      ]
    },
    {
      "metadata": {
        "id": "m6Y-bBKhOdHD",
        "colab_type": "code",
        "colab": {}
      },
      "cell_type": "code",
      "source": [
        "y = b2['l.men']"
      ],
      "execution_count": 0,
      "outputs": []
    },
    {
      "metadata": {
        "id": "yrJuETaAOdHM",
        "colab_type": "code",
        "colab": {}
      },
      "cell_type": "code",
      "source": [
        "trainX, testX, trainY, testY = train_test_split(ma, y, test_size=0.3, random_state=5)"
      ],
      "execution_count": 0,
      "outputs": []
    },
    {
      "metadata": {
        "id": "lNOuaq2mOdHR",
        "colab_type": "text"
      },
      "cell_type": "markdown",
      "source": [
        "> CNN은 Supervised learning, 즉 지도학습이므로 y(결과)값을 함께 학습해야 합니다. Training과 Test set의 비율은 7:3으로 해줍니다."
      ]
    },
    {
      "metadata": {
        "scrolled": true,
        "id": "iehucuNTOdHT",
        "colab_type": "code",
        "colab": {},
        "outputId": "070315fc-d12c-4384-881d-42f7994d88a6"
      },
      "cell_type": "code",
      "source": [
        "def build_model():\n",
        "  model = keras.Sequential([\n",
        "    keras.layers.Conv2D(16, kernel_size=(2, 2), activation='relu', padding ='SAME',\n",
        "                        strides=1, input_shape=[ingre_size,method_size , 1]),\n",
        "    keras.layers.MaxPooling2D(pool_size=(2, 2)),\n",
        "    keras.layers.BatchNormalization(),\n",
        "    keras.layers.Dropout(0.5),\n",
        "      \n",
        "      \n",
        "    keras.layers.Conv2D(32, kernel_size=(2, 2), activation='relu'),\n",
        "    keras.layers.MaxPooling2D(pool_size=(2, 2)),\n",
        "    keras.layers.BatchNormalization(),\n",
        "    keras.layers.Dropout(0.5),\n",
        "      \n",
        "    keras.layers.Flatten(),\n",
        "    keras.layers.Dense(64, activation='relu'),\n",
        "    keras.layers.Dropout(0.5),\n",
        "    keras.layers.Dense(1, activation='linear')\n",
        "  ])\n",
        "\n",
        "  optimizer = tf.train.RMSPropOptimizer(0.01)\n",
        "  #optimizer=keras.optimizers.Adadelta()\n",
        "  model.compile(loss='mse',\n",
        "                optimizer=optimizer,\n",
        "                metrics=['mae'])\n",
        "  return model\n",
        "model = build_model()\n",
        "model.summary()"
      ],
      "execution_count": 0,
      "outputs": [
        {
          "output_type": "stream",
          "text": [
            "_________________________________________________________________\n",
            "Layer (type)                 Output Shape              Param #   \n",
            "=================================================================\n",
            "conv2d (Conv2D)              (None, 14, 21, 16)        80        \n",
            "_________________________________________________________________\n",
            "max_pooling2d (MaxPooling2D) (None, 7, 10, 16)         0         \n",
            "_________________________________________________________________\n",
            "batch_normalization (BatchNo (None, 7, 10, 16)         64        \n",
            "_________________________________________________________________\n",
            "dropout (Dropout)            (None, 7, 10, 16)         0         \n",
            "_________________________________________________________________\n",
            "conv2d_1 (Conv2D)            (None, 6, 9, 32)          2080      \n",
            "_________________________________________________________________\n",
            "max_pooling2d_1 (MaxPooling2 (None, 3, 4, 32)          0         \n",
            "_________________________________________________________________\n",
            "batch_normalization_1 (Batch (None, 3, 4, 32)          128       \n",
            "_________________________________________________________________\n",
            "dropout_1 (Dropout)          (None, 3, 4, 32)          0         \n",
            "_________________________________________________________________\n",
            "flatten (Flatten)            (None, 384)               0         \n",
            "_________________________________________________________________\n",
            "dense (Dense)                (None, 64)                24640     \n",
            "_________________________________________________________________\n",
            "dropout_2 (Dropout)          (None, 64)                0         \n",
            "_________________________________________________________________\n",
            "dense_1 (Dense)              (None, 1)                 65        \n",
            "=================================================================\n",
            "Total params: 27,057\n",
            "Trainable params: 26,961\n",
            "Non-trainable params: 96\n",
            "_________________________________________________________________\n"
          ],
          "name": "stdout"
        }
      ]
    },
    {
      "metadata": {
        "id": "od03Xv-jOdH2",
        "colab_type": "text"
      },
      "cell_type": "markdown",
      "source": [
        "> 모델은 Convolution Layer, MaxPooling Layer, Dropout을 2번에 걸쳐서 사용하였습니다. 즉, 크게 보면 Input과 Output 사이에 2개의 층이 있다고 볼 수 있습니다. 모델을 구성하는 각각의 값들은 10~256까지 여러번 돌린 결과를 보고 가장 나은 결과를 판단하여 구성하였습니다. 즉, 경험에 의존하여 휴리스틱하게 진행하였습니다. 아직 더 튜닝이 필요한 부분입니다. Conv2D와 MaxPooling, Dropout, Relu은 구글링해보시면 쉽게 아실 수 있습니다."
      ]
    },
    {
      "metadata": {
        "id": "p4po2N4UOdH4",
        "colab_type": "code",
        "colab": {}
      },
      "cell_type": "code",
      "source": [
        "EPOCHS = 1000"
      ],
      "execution_count": 0,
      "outputs": []
    },
    {
      "metadata": {
        "id": "X9rS5Bo5OdH-",
        "colab_type": "text"
      },
      "cell_type": "markdown",
      "source": [
        "> EPOCHS는 몇번 iteration 할 것인지를 나타냅니다. 즉 '전체 데이터를 몇번 돌릴 것이냐'에 대한 답이라고 보시면 됩니다. 2만번을 돌린적도, 2천번을 돌린 적도 있지만 천번을 돌렸을 때와 결과가 다르지 않았으므로, Minimum Point는 천번이라고 판단하여 천번만 돌리도록 하겠습니다."
      ]
    },
    {
      "metadata": {
        "scrolled": true,
        "id": "mGcQT6qHOdIA",
        "colab_type": "code",
        "colab": {}
      },
      "cell_type": "code",
      "source": [
        "# Store training stats\n",
        "history = model.fit(trainX.reshape([-1,ingre_size, method_size,1]), trainY, \n",
        "                    epochs=EPOCHS\n",
        "                    )"
      ],
      "execution_count": 0,
      "outputs": []
    },
    {
      "metadata": {
        "id": "o_J0ykKhOdIL",
        "colab_type": "text"
      },
      "cell_type": "markdown",
      "source": [
        "> 모델을 학습시킴과 동시에 그 값을 history에 저장하였습니다. MAE(Mean Absolute Error)값이 800에서 185 정도로 수렴하는 것을 볼 수 있지만 미세하게 값이 왔다갔다 하는 것을 보아 좀더 튜닝이 필요한 것을 볼 수 있습니다."
      ]
    },
    {
      "metadata": {
        "id": "SIp3duC3OdIN",
        "colab_type": "text"
      },
      "cell_type": "markdown",
      "source": [
        "-----------------------------"
      ]
    },
    {
      "metadata": {
        "id": "lvJRue3OOdIO",
        "colab_type": "text"
      },
      "cell_type": "markdown",
      "source": [
        "### 6. 모델 평가하기"
      ]
    },
    {
      "metadata": {
        "scrolled": true,
        "id": "IYBpkgf2OdIP",
        "colab_type": "code",
        "colab": {},
        "outputId": "553da390-ebf8-46f3-91aa-bd1a03c514f9"
      },
      "cell_type": "code",
      "source": [
        "loss_and_metrics = model.evaluate(testX.reshape([-1,ingre_size, method_size,1]), testY)\n",
        "print('loss_and_metrics : ' + str(loss_and_metrics))"
      ],
      "execution_count": 0,
      "outputs": [
        {
          "output_type": "stream",
          "text": [
            "223/223 [==============================] - 0s 496us/step\n",
            "loss_and_metrics : [24913.803513873318, 119.62523941929565]\n"
          ],
          "name": "stdout"
        }
      ]
    },
    {
      "metadata": {
        "id": "0Hdb_N4aOdIV",
        "colab_type": "text"
      },
      "cell_type": "markdown",
      "source": [
        "> 앞서 나눈 Test 값을 통해 모델을 평가합니다. MAE 값이 119.6이 나온 것을 보아 예측 시 평균적으로 약 120명 정도의 오차가 있을 것이라는 것을 알 수 있습니다. 저 값을 줄여나가는 것이 모델의 방향이 될 것입니다."
      ]
    },
    {
      "metadata": {
        "id": "xqk9ZFVpOdIW",
        "colab_type": "text"
      },
      "cell_type": "markdown",
      "source": [
        "---------------------------------------"
      ]
    },
    {
      "metadata": {
        "id": "kjHXL8PUOdIZ",
        "colab_type": "text"
      },
      "cell_type": "markdown",
      "source": [
        "### 7. 모델 조정 - Scaling"
      ]
    },
    {
      "metadata": {
        "id": "OQODTOQNOdIa",
        "colab_type": "text"
      },
      "cell_type": "markdown",
      "source": [
        "앞서 모았던 모델은 각 행렬의 값이 0, 1 혹은 어쩌면 2가 나올 수도 있는 메뉴판 이미지였습니다. 값의 범위가 너무 다르고 데이터 양이 많지 않기 때문에 모델이 정확한 값을 도출할 확률은 그만큼 적을 수 밖에 없습니다. 따라서 최대최소로 행렬값 자체의 범위를 줄여주는 Scaling 기법을 적용하였습니다."
      ]
    },
    {
      "metadata": {
        "id": "DFBmT7RaOdIc",
        "colab_type": "code",
        "colab": {},
        "outputId": "1dfabf5d-3031-45f9-a921-d646d70e3717"
      },
      "cell_type": "code",
      "source": [
        "ma1 = np.zeros((b1.shape[0],ingre_size,method_size))\n",
        "ma1.shape"
      ],
      "execution_count": 0,
      "outputs": [
        {
          "output_type": "execute_result",
          "data": {
            "text/plain": [
              "(741, 14, 21)"
            ]
          },
          "metadata": {
            "tags": []
          },
          "execution_count": 25
        }
      ]
    },
    {
      "metadata": {
        "id": "N0c0OdbpOdIh",
        "colab_type": "text"
      },
      "cell_type": "markdown",
      "source": [
        "> 마찬가지로 0으로 구성된 행렬을 만들어줍니다"
      ]
    },
    {
      "metadata": {
        "id": "fYSBubjSOdIi",
        "colab_type": "code",
        "colab": {}
      },
      "cell_type": "code",
      "source": [
        "from sklearn.preprocessing import scale, robust_scale, minmax_scale, maxabs_scale"
      ],
      "execution_count": 0,
      "outputs": []
    },
    {
      "metadata": {
        "id": "ctzR7f-ZOdIl",
        "colab_type": "code",
        "colab": {}
      },
      "cell_type": "code",
      "source": [
        "#최종 전처리 - scaling : 평균 & 표준편차 사용\n",
        "\n",
        "for i in range(b1.shape[0]):\n",
        "    print('date : ', b2['date'][i])\n",
        "    print('l.men : ', b2['l.men'][i])\n",
        "    cnt = 0 \n",
        "    for k in range(b1.shape[1]): \n",
        "        tmp = b1[[0,1,2,3,4,5,6,7,8,9,10,11]][i:i+1]\n",
        "        if tmp[k].values[0] in a:\n",
        "            ma1[i] += a[tmp[k].values[0]]\n",
        "            cnt += 1\n",
        "            print('all_count : ', i+1)\n",
        "            print('Updating..... ', tmp[k].values[0])\n",
        "            print('count : ', cnt)\n",
        "            print('menu : \\n', tmp)\n",
        "            print('array : \\n', ma1[i])\n",
        "            print('.')\n",
        "    ma1[i] = scale(ma1[i])\n",
        "    print('Final array : \\n', ma1[i])\n",
        "    print('.')"
      ],
      "execution_count": 0,
      "outputs": []
    },
    {
      "metadata": {
        "id": "AikifoAvOdJU",
        "colab_type": "text"
      },
      "cell_type": "markdown",
      "source": [
        "> 마찬가지로 날짜별 메뉴판을 만들어줍니다."
      ]
    },
    {
      "metadata": {
        "id": "ki-HAByeOdJb",
        "colab_type": "code",
        "colab": {}
      },
      "cell_type": "code",
      "source": [
        "trainX1, testX1, trainY1, testY1 = train_test_split(ma1, y, test_size=0.3, random_state=5)"
      ],
      "execution_count": 0,
      "outputs": []
    },
    {
      "metadata": {
        "id": "6eTg-MBdOdJf",
        "colab_type": "text"
      },
      "cell_type": "markdown",
      "source": [
        "> 마찬가지로 Training, Test Set을 나눠줍니다."
      ]
    },
    {
      "metadata": {
        "id": "Rqs4FSXGOdJh",
        "colab_type": "code",
        "colab": {}
      },
      "cell_type": "code",
      "source": [
        "# Store training stats\n",
        "history1 = model.fit(trainX1.reshape([-1,ingre_size, method_size,1]), trainY1, \n",
        "                    epochs=EPOCHS\n",
        "                    )"
      ],
      "execution_count": 0,
      "outputs": []
    },
    {
      "metadata": {
        "id": "EgpOroFrOdJp",
        "colab_type": "text"
      },
      "cell_type": "markdown",
      "source": [
        "> 앞서 진행한 것과 같이 같은 모델로 학습합니다."
      ]
    },
    {
      "metadata": {
        "id": "pBwEa-RbOdJ2",
        "colab_type": "code",
        "colab": {},
        "outputId": "6a6cc515-6407-4fc1-a2c5-f70500a534ae"
      },
      "cell_type": "code",
      "source": [
        "# 6. 모델 평가하기\n",
        "loss_and_metrics1 = model.evaluate(testX1.reshape([-1,ingre_size, method_size,1]), testY1)\n",
        "print('loss_and_metrics : ' + str(loss_and_metrics1))"
      ],
      "execution_count": 0,
      "outputs": [
        {
          "output_type": "stream",
          "text": [
            "223/223 [==============================] - 0s 188us/step\n",
            "loss_and_metrics : [22997.134231362106, 119.46241178640871]\n"
          ],
          "name": "stdout"
        }
      ]
    },
    {
      "metadata": {
        "id": "KCpj3ZDQOdJ8",
        "colab_type": "text"
      },
      "cell_type": "markdown",
      "source": [
        "> 마찬가지로 모델을 평가합니다. 119.4로 아까보다 0.2가 나아진 것을 볼 수 있지만 눈에 띌만한 값이 아니므로 Scaling 자체가 큰 의미가 있다고는 할 수 없을 것 같습니다."
      ]
    },
    {
      "metadata": {
        "id": "z0wiB1dlOdJ_",
        "colab_type": "code",
        "colab": {}
      },
      "cell_type": "code",
      "source": [
        "model.predict(testX1.reshape([-1,ingre_size, method_size,1]))"
      ],
      "execution_count": 0,
      "outputs": []
    },
    {
      "metadata": {
        "id": "OZONweTVOdKG",
        "colab_type": "text"
      },
      "cell_type": "markdown",
      "source": [
        "> 마지막으로 Test Set의 값을 통해 직접 값을 예측해봅니다. 향후에 모델이 더 나아지고 이 값을 다른 값에 전달할 때 예측하는 것이 필요합니다."
      ]
    },
    {
      "metadata": {
        "id": "Q3mJN1qPOdKI",
        "colab_type": "text"
      },
      "cell_type": "markdown",
      "source": [
        "<hr/>"
      ]
    },
    {
      "metadata": {
        "id": "4IQ9v0jyOdKJ",
        "colab_type": "text"
      },
      "cell_type": "markdown",
      "source": [
        "## 8. 결론"
      ]
    },
    {
      "metadata": {
        "id": "ZIUfsHkuOdKK",
        "colab_type": "text"
      },
      "cell_type": "markdown",
      "source": [
        "#### : 메뉴판 이미지(행렬) 데이터를 통한 CNN 기법 적용은 오차율을 낮추는 것에 큰 효과를 보지는 못했지만(오차율 약 9~10퍼센트) 맛, Pred l.men 데이터 추가 적용, Parameter Tuning, Ensemble 기법 적용을 통해 보다 나은 모델을 만들 수 있으리라 기대합니다. "
      ]
    }
  ]
}